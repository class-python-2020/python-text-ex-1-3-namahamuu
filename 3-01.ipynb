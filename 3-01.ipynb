{
 "metadata": {
  "language_info": {
   "codemirror_mode": {
    "name": "ipython",
    "version": 3
   },
   "file_extension": ".py",
   "mimetype": "text/x-python",
   "name": "python",
   "nbconvert_exporter": "python",
   "pygments_lexer": "ipython3",
   "version": 3
  },
  "orig_nbformat": 2,
  "kernelspec": {
   "name": "python_defaultSpec_1595915305455",
   "display_name": "Python 3.8.2 32-bit"
  }
 },
 "nbformat": 4,
 "nbformat_minor": 2,
 "cells": [
  {
   "cell_type": "code",
   "execution_count": null,
   "metadata": {},
   "outputs": [],
   "source": [
    "if 条件式:\n",
    "    条件式が真だった場合の処理"
   ]
  },
  {
   "cell_type": "code",
   "execution_count": null,
   "metadata": {},
   "outputs": [],
   "source": [
    "if a >= 10:\n",
    "    print(a)"
   ]
  },
  {
   "cell_type": "code",
   "execution_count": null,
   "metadata": {},
   "outputs": [],
   "source": [
    "if a > 10:\n",
    "    print('OK')"
   ]
  },
  {
   "cell_type": "code",
   "execution_count": null,
   "metadata": {},
   "outputs": [],
   "source": [
    "if 'a' in ['a', 'b', 'c']:\n",
    "    print('OK')"
   ]
  },
  {
   "cell_type": "code",
   "execution_count": null,
   "metadata": {},
   "outputs": [],
   "source": [
    "if a > 10 and b < 15:\n",
    "    print('OK')"
   ]
  },
  {
   "cell_type": "code",
   "execution_count": null,
   "metadata": {},
   "outputs": [],
   "source": [
    "if 10:\n",
    "    print('OK')\n",
    "# 10 -> True\n",
    "\n",
    "if 0:\n",
    "    print('OK')\n",
    "# 0 -> False\n",
    "\n",
    "if [1, 2]:\n",
    "    print('OK')\n",
    "# [1, 2] -> True\n",
    "\n",
    "if []:\n",
    "    print('OK')\n",
    "# [] -> False\n",
    "\n",
    "if 'False':\n",
    "    print('OK')\n",
    "#文字列の'False' -> True"
   ]
  },
  {
   "cell_type": "code",
   "execution_count": null,
   "metadata": {},
   "outputs": [],
   "source": [
    "bool(10)"
   ]
  },
  {
   "cell_type": "code",
   "execution_count": null,
   "metadata": {},
   "outputs": [],
   "source": [
    "print(bool(0))\n",
    "print(bool([1, 2]))\n",
    "print(bool([]))\n",
    "print(bool('False'))"
   ]
  },
  {
   "cell_type": "code",
   "execution_count": null,
   "metadata": {},
   "outputs": [],
   "source": [
    "a = 100\n",
    "if a >= 10:\n",
    "    print(a)"
   ]
  },
  {
   "cell_type": "code",
   "execution_count": null,
   "metadata": {},
   "outputs": [],
   "source": [
    "a = 0\n",
    "if a == 0:\n",
    "    a += 1\n",
    "    a *= 2\n",
    "    a -= 1\n",
    "print(a)"
   ]
  }
 ]
}